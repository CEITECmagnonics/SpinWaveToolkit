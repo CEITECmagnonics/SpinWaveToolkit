{
 "cells": [
  {
   "cell_type": "markdown",
   "id": "5f4d55ed",
   "metadata": {},
   "source": [
    "# BLS signal from single layer modeling\n",
    "This example shows how SpinWaveToolkit (SWT) can be used to calculate the expected BLS signal of a single magnetic layer. \n",
    "\n",
    "We start by impoting the modules we need and by defining the parameters of the system and model."
   ]
  },
  {
   "cell_type": "code",
   "execution_count": 2,
   "id": "b1ba96bd",
   "metadata": {},
   "outputs": [],
   "source": [
    "# Import modules\n",
    "import numpy as np\n",
    "import SpinWaveToolkit as SWT\n",
    "from matplotlib import pyplot as plt"
   ]
  },
  {
   "cell_type": "code",
   "execution_count": null,
   "id": "8805b570",
   "metadata": {},
   "outputs": [],
   "source": [
    "# Define parameters \n",
    "Bext = 50e-3         # External field [T]\n",
    "theta = np.pi / 2    # Out-of-plane angle (fixed)\n",
    "d_layer = 30e-9     # Magnetic layer thickness [m]\n",
    "material = SWT.NiFe  # Material (from toolkit)\n",
    "Nf_common = 51     # Number of frequency points for Bloch function\n",
    "\n",
    "# Define the Kx,Ky grid limits and resolution.\n",
    "Nk = 100             # resolution in Kx and Ky\n",
    "k_min = 1e-6         # minimum k (avoid zero if necessary)\n",
    "k_max = 15e6        # maximum k (as in original kxi range)\n",
    "NA=0.75           # Numerical Aperture (NA) for the lens\n",
    "\n",
    "# Create a regular Kx,Ky grid\n",
    "kx_grid = np.linspace(-k_max, k_max, Nk)\n",
    "ky_grid = np.linspace(-k_max, k_max, Nk)\n",
    "KX, KY = np.meshgrid(kx_grid, ky_grid, indexing='ij')"
   ]
  },
  {
   "cell_type": "markdown",
   "id": "73175d39",
   "metadata": {},
   "source": [
    "Now we calculate the electric field incident on the magnetic layer using the `ObjectiveLens` class, get the Bloch functions in 3D and compute the BLS signal using the `getBLSsignal` function."
   ]
  },
  {
   "cell_type": "code",
   "execution_count": null,
   "id": "8770378b",
   "metadata": {},
   "outputs": [
    {
     "name": "stdout",
     "output_type": "stream",
     "text": [
      "Preparing focal field...\n",
      "Preparing Bloch functions in 3D (f,kx,ky) using Slavin-Kalinikos model...\n",
      "Computing BLS signal from Slavin-Kalinikos model...\n"
     ]
    }
   ],
   "source": [
    "# Now Bloch2D is an array of shape (Nf_common, Nk, Nk), where for each frequency,\n",
    "# you have the Bloch amplitude defined on the Kx,Ky grid.\n",
    "print(\"Preparing focal field...\")\n",
    "objective = SWT.ObjectiveLens(NA=NA, wavelength=532e-9, f0=10, f=1e-3)\n",
    "x, y, Ex, Ey, Ez = objective.getFocalField(z=0, rho_max=10e-6, N=400)\n",
    "E = [Ex, Ey, Ez]\n",
    "Exy = [x, y]\n",
    "\n",
    "\n",
    "# Preallocate the output array for the Bloch function amplitudes.\n",
    "# The result will be complex amplitudes defined on a common frequency axis.\n",
    "# Shape: (Nf_common, Nk, Nk)\n",
    "Bloch2D = np.zeros((Nf_common, Nk, Nk), dtype=complex)\n",
    "\n",
    "# We will also store the common frequency axis.\n",
    "w_common = np.linspace(2*np.pi*3e9, 2*np.pi*18e9, Nf_common)\n",
    "\n",
    "print(\"Preparing Bloch functions in 3D (f,kx,ky) using Slavin-Kalinikos model...\")\n",
    "# Loop over all grid points in the Kx,Ky plane.\n",
    "for i in range(Nk):\n",
    "    for j in range(Nk):\n",
    "        # Compute polar coordinates for the current (KX, KY) point.\n",
    "        kxi_val = np.sqrt(KX[i, j]**2 + KY[i, j]**2)\n",
    "        # For a nearly zero radius, set phi = 0 (or any default value) to avoid NaN.\n",
    "        phi_val = np.arctan2(KY[i, j], KX[i, j]) if kxi_val > 1e-12 else 0.0\n",
    "\n",
    "        # Create a SingleLayer model for the current kxi and phi.\n",
    "        # Note: We pass kxi as a one-element array.\n",
    "        model = SWT.SingleLayer(Bext=Bext, kxi=np.array([kxi_val]),\n",
    "                                theta=theta, phi=phi_val,\n",
    "                                d=d_layer, material=material)\n",
    "        # Compute the Bloch functions for n=0,1,2.\n",
    "        # The returned w has shape (Nf_common,) and bf has shape (Nf_common, len(kxi))\n",
    "        w0, bf0 = model.GetBlochFunction(n=0, Nf=Nf_common)\n",
    "        w1, bf1 = model.GetBlochFunction(n=1, Nf=Nf_common)\n",
    "        w2, bf2 = model.GetBlochFunction(n=2, Nf=Nf_common)\n",
    "        # Interpolate the Bloch functions to the common frequency axis.\n",
    "        bf0_interp = np.interp(w_common, w0, bf0[:, 0], left=0, right=0)\n",
    "        bf1_interp = np.interp(w_common, w1, bf0[:, 0], left=0, right=0)\n",
    "        bf2_interp = np.interp(w_common, w2, bf0[:, 0], left=0, right=0)\n",
    "\n",
    "        # Sum Bloch functions for n=0,1,2\n",
    "        Bloch2D[:, i, j] = bf0_interp + bf1_interp + bf2_interp\n",
    "\n",
    "\n",
    "Bloch3 = [Bloch2D, np.zeros((Nf_common, Nk, Nk), dtype=complex), Bloch2D*1j]\n",
    "\n",
    "\n",
    "print(\"Computing BLS signal from Slavin-Kalinikos model...\")\n",
    "# Compute the BLS signal using the Bloch functions and the electric field.\n",
    "Ex, Ey = SWT.getBLSsignal(SweepBloch=w_common, KxKyBloch=[kx_grid, ky_grid], Bloch=np.array(Bloch3),\n",
    "                          Exy=Exy, E=E, Nq=50, DF=[1, -8.1653 + 1j*15.348, 17.237 + 1j*0.43004],\n",
    "                          PM=[1,1,1], d=[d_layer], NA=NA, source_layer_index=1, output_layer_index=0,\n",
    "                          wavelength=532e-9, collectionSpot=0.5e-6, focalLength=1e-3)"
   ]
  },
  {
   "cell_type": "markdown",
   "id": "c53533fe",
   "metadata": {},
   "source": [
    "Finally, we plot the resulting BLS signal."
   ]
  },
  {
   "cell_type": "code",
   "execution_count": 5,
   "id": "c35a5e8d",
   "metadata": {},
   "outputs": [
    {
     "data": {
      "image/png": "[encoded data removed]",
      "text/plain": [
       "<Figure size 400x250 with 1 Axes>"
      ]
     },
     "metadata": {},
     "output_type": "display_data"
    }
   ],
   "source": [
    "# Plot the BLS signal\n",
    "plt.figure(figsize=(4, 2.5))\n",
    "plt.plot(w_common/2/np.pi/1e9, np.abs(Ey*np.conj(Ey)), label='Slavin-Kalinikos model')\n",
    "plt.xlabel('frequency (GHz)')\n",
    "plt.ylabel('BLS intensity (a.u.)')\n",
    "plt.title('BLS signal')\n",
    "plt.show()"
   ]
  }
 ],
 "metadata": {
  "kernelspec": {
   "display_name": "base",
   "language": "python",
   "name": "python3"
  },
  "language_info": {
   "codemirror_mode": {
    "name": "ipython",
    "version": 3
   },
   "file_extension": ".py",
   "mimetype": "text/x-python",
   "name": "python",
   "nbconvert_exporter": "python",
   "pygments_lexer": "ipython3",
   "version": "3.11.5"
  }
 },
 "nbformat": 4,
 "nbformat_minor": 5
}
